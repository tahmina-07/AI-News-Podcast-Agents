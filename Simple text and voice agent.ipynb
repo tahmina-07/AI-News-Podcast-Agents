{
 "cells": [
  {
   "cell_type": "code",
   "execution_count": 6,
   "id": "0fda6d63-d4bd-43c8-9a9e-23fa6df914ea",
   "metadata": {},
   "outputs": [
    {
     "name": "stdout",
     "output_type": "stream",
     "text": [
      "\n",
      "\u001b[1m[\u001b[0m\u001b[34;49mnotice\u001b[0m\u001b[1;39;49m]\u001b[0m\u001b[39;49m A new release of pip is available: \u001b[0m\u001b[31;49m24.0\u001b[0m\u001b[39;49m -> \u001b[0m\u001b[32;49m25.2\u001b[0m\n",
      "\u001b[1m[\u001b[0m\u001b[34;49mnotice\u001b[0m\u001b[1;39;49m]\u001b[0m\u001b[39;49m To update, run: \u001b[0m\u001b[32;49mpip install --upgrade pip\u001b[0m\n"
     ]
    }
   ],
   "source": [
    "!pip install -q google-adk>=1.12.0"
   ]
  },
  {
   "cell_type": "code",
   "execution_count": 7,
   "id": "b76c6cc6-6874-4690-9c10-0fabf655b850",
   "metadata": {},
   "outputs": [
    {
     "name": "stdout",
     "output_type": "stream",
     "text": [
      "Defaulting to user installation because normal site-packages is not writeable\n",
      "Requirement already satisfied: pip in /usr/local/lib/python3.11/site-packages (24.0)\n",
      "Collecting pip\n",
      "  Downloading pip-25.2-py3-none-any.whl.metadata (4.7 kB)\n",
      "Downloading pip-25.2-py3-none-any.whl (1.8 MB)\n",
      "\u001b[2K   \u001b[90m━━━━━━━━━━━━━━━━━━━━━━━━━━━━━━━━━━━━━━━━\u001b[0m \u001b[32m1.8/1.8 MB\u001b[0m \u001b[31m12.9 MB/s\u001b[0m eta \u001b[36m0:00:00\u001b[0m:00:01\u001b[0m\n",
      "\u001b[?25hInstalling collected packages: pip\n",
      "\u001b[33m  WARNING: The scripts pip, pip3 and pip3.11 are installed in '/home/jovyan/.local/bin' which is not on PATH.\n",
      "  Consider adding this directory to PATH or, if you prefer to suppress this warning, use --no-warn-script-location.\u001b[0m\u001b[33m\n",
      "\u001b[0mSuccessfully installed pip-25.2\n",
      "\n",
      "\u001b[1m[\u001b[0m\u001b[34;49mnotice\u001b[0m\u001b[1;39;49m]\u001b[0m\u001b[39;49m A new release of pip is available: \u001b[0m\u001b[31;49m24.0\u001b[0m\u001b[39;49m -> \u001b[0m\u001b[32;49m25.2\u001b[0m\n",
      "\u001b[1m[\u001b[0m\u001b[34;49mnotice\u001b[0m\u001b[1;39;49m]\u001b[0m\u001b[39;49m To update, run: \u001b[0m\u001b[32;49mpip install --upgrade pip\u001b[0m\n",
      "Note: you may need to restart the kernel to use updated packages.\n"
     ]
    }
   ],
   "source": [
    "pip install --upgrade pip"
   ]
  },
  {
   "cell_type": "code",
   "execution_count": 8,
   "id": "4b2b21b3-ee77-4028-b3f7-937fbd57e237",
   "metadata": {},
   "outputs": [],
   "source": [
    "from helper import *\n",
    "\n",
    "# Load environment variables from .env file\n",
    "load_env()"
   ]
  },
  {
   "cell_type": "code",
   "execution_count": 9,
   "id": "3889db8f-613a-48f4-a331-9b482c9c3197",
   "metadata": {},
   "outputs": [
    {
     "name": "stdout",
     "output_type": "stream",
     "text": [
      "\u001b[32m\n",
      "Agent created in /home/jovyan/work/L1/app_01:\n",
      "- .env\n",
      "- __init__.py\n",
      "- agent.py\n",
      "\u001b[0m\n"
     ]
    }
   ],
   "source": [
    "# First we create our expected agent folder \n",
    "# You can explore available option: !adk create --help \n",
    "\n",
    "!adk create --type=code app_01 --model gemini-2.0-flash-live-001 --api_key $GEMINI_API_KEY"
   ]
  },
  {
   "cell_type": "code",
   "execution_count": 10,
   "id": "8e306afd-5438-4ee7-9198-260609c0fcd3",
   "metadata": {},
   "outputs": [
    {
     "name": "stdout",
     "output_type": "stream",
     "text": [
      "Overwriting app_01/agent.py\n"
     ]
    }
   ],
   "source": [
    "%%writefile app_01/agent.py\n",
    "\n",
    "from google.adk.agents import Agent\n",
    "\n",
    "root_agent = Agent(\n",
    "    name=\"ai_news_agent_simple\",\n",
    "    model=\"gemini-2.0-flash-live-001\", # Essential for live voice interaction\n",
    "    instruction=\"You are an AI News Assistant.\",\n",
    ")"
   ]
  },
  {
   "cell_type": "code",
   "execution_count": 11,
   "id": "0d1ceb02-d6da-4922-85bd-68808bfd4901",
   "metadata": {},
   "outputs": [
    {
     "data": {
      "text/html": [
       "\n",
       "        <iframe\n",
       "            width=\"600\"\n",
       "            height=\"768\"\n",
       "            src=\"https://s172-29-125-166p8888.lab-aws-production.deeplearning.ai/terminals/1\"\n",
       "            frameborder=\"0\"\n",
       "            allowfullscreen\n",
       "            \n",
       "        ></iframe>\n",
       "        "
      ],
      "text/plain": [
       "<IPython.lib.display.IFrame at 0x7f55d8356a10>"
      ]
     },
     "execution_count": 11,
     "metadata": {},
     "output_type": "execute_result"
    }
   ],
   "source": [
    "# start a new terminal\n",
    "import os\n",
    "from IPython.display import IFrame\n",
    "\n",
    "IFrame(f\"{os.environ.get('DLAI_LOCAL_URL').format(port=8888)}terminals/1\", \n",
    "       width=600, height=768)"
   ]
  },
  {
   "cell_type": "code",
   "execution_count": 12,
   "id": "f4494a9f-ef75-4cdc-bd29-286c587ee8f9",
   "metadata": {},
   "outputs": [
    {
     "name": "stdout",
     "output_type": "stream",
     "text": [
      "https://s172-29-125-166p8001.lab-aws-production.deeplearning.ai/\n"
     ]
    }
   ],
   "source": [
    "import os\n",
    "print(os.environ.get('DLAI_LOCAL_URL').format(port='8001'))"
   ]
  },
  {
   "cell_type": "code",
   "execution_count": 13,
   "id": "ebc3a7b6-187b-4ee8-9e86-26e993084af3",
   "metadata": {},
   "outputs": [
    {
     "name": "stdout",
     "output_type": "stream",
     "text": [
      "\u001b[32m\n",
      "Agent created in /home/jovyan/work/L1/app_02:\n",
      "- .env\n",
      "- __init__.py\n",
      "- agent.py\n",
      "\u001b[0m\n"
     ]
    }
   ],
   "source": [
    "!adk create --type=code app_02 --model gemini-2.0-flash-live-001 --api_key $GEMINI_API_KEY"
   ]
  },
  {
   "cell_type": "code",
   "execution_count": 14,
   "id": "ed6fc828-eae5-48a7-b1ce-9e1de21703ff",
   "metadata": {},
   "outputs": [
    {
     "name": "stdout",
     "output_type": "stream",
     "text": [
      "Overwriting app_02/agent.py\n"
     ]
    }
   ],
   "source": [
    "%%writefile app_02/agent.py\n",
    "\n",
    "from google.adk.agents import Agent\n",
    "from google.adk.tools import google_search\n",
    "\n",
    "root_agent = Agent(\n",
    "    name=\"ai_news_agent_simple\",\n",
    "    model=\"gemini-2.0-flash-live-001\", # Essential for live voice interaction\n",
    "    instruction=\"You are an AI News Assistant. Use Google Search to find recent AI news.\",\n",
    "    tools=[google_search]\n",
    ")\n"
   ]
  },
  {
   "cell_type": "code",
   "execution_count": 15,
   "id": "19b27e11-ed59-41be-89aa-93e404b618e9",
   "metadata": {},
   "outputs": [
    {
     "name": "stdout",
     "output_type": "stream",
     "text": [
      "\u001b[32m\n",
      "Agent created in /home/jovyan/work/L1/app_03:\n",
      "- .env\n",
      "- __init__.py\n",
      "- agent.py\n",
      "\u001b[0m\n"
     ]
    }
   ],
   "source": [
    "!adk create --type=code app_03 --model gemini-2.5-flash --api_key $GEMINI_API_KEY"
   ]
  },
  {
   "cell_type": "markdown",
   "id": "6354c75f-5d94-4235-8e93-a182d0838ee5",
   "metadata": {},
   "source": [
    "Run the below cell to create a new agent. Notice how the only difference in the code is the \"model\" name."
   ]
  },
  {
   "cell_type": "code",
   "execution_count": 16,
   "id": "86f01546-4b74-4e85-bed5-66812ba0de4b",
   "metadata": {},
   "outputs": [
    {
     "name": "stdout",
     "output_type": "stream",
     "text": [
      "Overwriting app_03/agent.py\n"
     ]
    }
   ],
   "source": [
    "%%writefile app_03/agent.py\n",
    "\n",
    "from google.adk.agents import Agent\n",
    "from google.adk.tools import google_search\n",
    "\n",
    "root_agent = Agent(\n",
    "    name=\"ai_news_agent_simple\",\n",
    "    model=\"gemini-2.5-flash\",\n",
    "    instruction=\"You are an AI News Assistant. Use Google Search to find recent AI news.\",\n",
    "    tools=[google_search]\n",
    ")\n"
   ]
  },
  {
   "cell_type": "code",
   "execution_count": 17,
   "id": "778c12f1-21ef-4770-b533-1454429ebdce",
   "metadata": {},
   "outputs": [
    {
     "name": "stdout",
     "output_type": "stream",
     "text": [
      "\u001b[32m\n",
      "Agent created in /home/jovyan/work/L1/app_04:\n",
      "- .env\n",
      "- __init__.py\n",
      "- root_agent.yaml\n",
      "\u001b[0m\n"
     ]
    }
   ],
   "source": [
    "# You can also define the agent with simple YAML confirguration \n",
    "\n",
    "!adk create --type=config app_04 --model gemini-2.5-flash --api_key $GEMINI_API_KEY"
   ]
  },
  {
   "cell_type": "code",
   "execution_count": null,
   "id": "89d9dbdd-056d-494b-b080-f729040fe639",
   "metadata": {},
   "outputs": [],
   "source": [
    "%%writefile app_04/root_agent.yaml\n",
    "\n",
    "name: ai_news_agent_yaml\n",
    "model: gemini-2.0-flash-live-001 # Using a model that supports live voice\n",
    "description: An agent that answers questions about recent news in Artificial Intelligence.\n",
    "instruction: You are an AI News Assistant. Use Google Search to find and summarize recent AI news.\n",
    "tools:\n",
    "  - name: google_search\n"
   ]
  },
  {
   "cell_type": "code",
   "execution_count": null,
   "id": "defb96d5-2b56-48ea-8f8a-d6bfe6df533f",
   "metadata": {},
   "outputs": [],
   "source": [
    "# You can also modify the instructions  \n",
    "\n",
    "!adk create --type=code app_05 --model gemini-2.0-flash-live-001 --api_key $GEMINI_API_KEY"
   ]
  },
  {
   "cell_type": "markdown",
   "id": "dc1bbed0-7366-4db4-8cf5-434a2c45d177",
   "metadata": {},
   "source": [
    "Write the updated agent code to the `agent.py` file."
   ]
  },
  {
   "cell_type": "code",
   "execution_count": null,
   "id": "ca43acce-ca31-4683-83c1-f32f6f9e521e",
   "metadata": {},
   "outputs": [],
   "source": [
    "%%writefile app_05/agent.py\n",
    "\n",
    "from google.adk.agents import Agent\n",
    "from google.adk.tools import google_search\n",
    "\n",
    "root_agent = Agent(\n",
    "    name=\"ai_news_agent_strict\",\n",
    "    model=\"gemini-2.0-flash-live-001\",\n",
    "    instruction=\"\"\"\n",
    "    **Your Core Identity and Sole Purpose:**\n",
    "    You are a specialized AI News Assistant. Your sole and exclusive purpose is to find and summarize recent news (from the last few weeks) about Artificial Intelligence.\n",
    "\n",
    "    **Strict Refusal Mandate:**\n",
    "    If a user asks about ANY topic that is not recent AI news, you MUST refuse.\n",
    "    For off-topic requests, respond with the exact phrase: \"Sorry, I can't answer anything about this. I am only supposed to answer about the latest AI news.\"\n",
    "\n",
    "    **Required Workflow for Valid Requests:**\n",
    "    1. You MUST use the `google_search` tool to find information.\n",
    "    2. You MUST base your answer strictly on the search results.\n",
    "    3. You MUST cite your sources.\n",
    "    \"\"\",\n",
    "    tools=[google_search]\n",
    ")"
   ]
  },
  {
   "cell_type": "markdown",
   "id": "b8f6fe0e-cad6-4beb-a2af-deda8f4dce1f",
   "metadata": {},
   "source": [
    "### Understanding Advanced Instructions\n",
    "\n",
    "This enhanced instruction pattern includes:\n",
    "\n",
    "- **Clear Identity**: Explicitly defines the agent's sole purpose\n",
    "- **Refusal Mechanism**: Provides exact phrases for rejecting off-topic requests  \n",
    "- **Workflow Requirements**: Forces the agent to use tools and cite sources\n",
    "- **Behavioral Boundaries**: Sets expectations for valid vs. invalid requests\n",
    "\n",
    "This creates a much more reliable and focused agent behavior.\n",
    "\n",
    "### Testing Instructions\n",
    "\n",
    "**Refresh the ADK Web UI**, select the appropriate app (app_05) from the dropdown menu and test your enhanced agent with both valid and invalid requests:\n",
    "\n",
    "**Valid prompts** (should get a response):\n",
    "- \"What's the latest AI news about Google?\"\n",
    "- \"Tell me about recent AI chip developments\"\n",
    "\n",
    "**Invalid prompts** (should be refused):\n",
    "- \"What's the weather today?\"\n",
    "- \"Help me with my homework\"\n",
    "\n",
    "Watch how the agent now maintains strict boundaries while still being helpful for AI-related queries."
   ]
  },
  {
   "cell_type": "markdown",
   "id": "976c2eb6-2a89-4af9-90eb-97eeb746cb89",
   "metadata": {},
   "source": [
    "# 🚨 **IMPORTANT** 🚨\n",
    "\n",
    "After finishing, make sure to run the cell below to close your connection so it does not interfere as you progress through the notebooks."
   ]
  },
  {
   "cell_type": "code",
   "execution_count": null,
   "id": "1a77bfa2-5f0f-451a-9df3-4fdeb847a864",
   "metadata": {},
   "outputs": [],
   "source": [
    "# Kill ADK process\n",
    "!pkill -f \"adk web\""
   ]
  },
  {
   "cell_type": "markdown",
   "id": "f43b9eaf-e61d-4e9f-8054-67ae745226b4",
   "metadata": {},
   "source": [
    "# Resources\n",
    "\n",
    "[Gemini API Models](https://ai.google.dev/gemini-api/docs/models#model-variations)"
   ]
  }
 ],
 "metadata": {
  "kernelspec": {
   "display_name": "Python 3 (ipykernel)",
   "language": "python",
   "name": "python3"
  },
  "language_info": {
   "codemirror_mode": {
    "name": "ipython",
    "version": 3
   },
   "file_extension": ".py",
   "mimetype": "text/x-python",
   "name": "python",
   "nbconvert_exporter": "python",
   "pygments_lexer": "ipython3",
   "version": "3.11.14"
  }
 },
 "nbformat": 4,
 "nbformat_minor": 5
}
