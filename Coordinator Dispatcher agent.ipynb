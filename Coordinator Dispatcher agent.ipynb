{
 "cells": [
  {
   "cell_type": "code",
   "execution_count": 1,
   "id": "f4752c2f-8666-4f9f-8867-091a6467314f",
   "metadata": {},
   "outputs": [
    {
     "name": "stdout",
     "output_type": "stream",
     "text": [
      "\n",
      "\u001b[1m[\u001b[0m\u001b[34;49mnotice\u001b[0m\u001b[1;39;49m]\u001b[0m\u001b[39;49m A new release of pip is available: \u001b[0m\u001b[31;49m24.0\u001b[0m\u001b[39;49m -> \u001b[0m\u001b[32;49m25.2\u001b[0m\n",
      "\u001b[1m[\u001b[0m\u001b[34;49mnotice\u001b[0m\u001b[1;39;49m]\u001b[0m\u001b[39;49m To update, run: \u001b[0m\u001b[32;49mpip install --upgrade pip\u001b[0m\n",
      "Defaulting to user installation because normal site-packages is not writeable\n",
      "Requirement already satisfied: yfinance in /usr/local/lib/python3.11/site-packages (0.2.66)\n",
      "Requirement already satisfied: pandas>=1.3.0 in /usr/local/lib/python3.11/site-packages (from yfinance) (2.3.3)\n",
      "Requirement already satisfied: numpy>=1.16.5 in /usr/local/lib/python3.11/site-packages (from yfinance) (2.3.4)\n",
      "Requirement already satisfied: requests>=2.31 in /usr/local/lib/python3.11/site-packages (from yfinance) (2.32.5)\n",
      "Requirement already satisfied: multitasking>=0.0.7 in /usr/local/lib/python3.11/site-packages (from yfinance) (0.0.12)\n",
      "Requirement already satisfied: platformdirs>=2.0.0 in /usr/local/lib/python3.11/site-packages (from yfinance) (4.5.0)\n",
      "Requirement already satisfied: pytz>=2022.5 in /usr/local/lib/python3.11/site-packages (from yfinance) (2025.2)\n",
      "Requirement already satisfied: frozendict>=2.3.4 in /usr/local/lib/python3.11/site-packages (from yfinance) (2.4.6)\n",
      "Requirement already satisfied: peewee>=3.16.2 in /usr/local/lib/python3.11/site-packages (from yfinance) (3.18.2)\n",
      "Requirement already satisfied: beautifulsoup4>=4.11.1 in /usr/local/lib/python3.11/site-packages (from yfinance) (4.14.2)\n",
      "Requirement already satisfied: curl_cffi>=0.7 in /usr/local/lib/python3.11/site-packages (from yfinance) (0.13.0)\n",
      "Requirement already satisfied: protobuf>=3.19.0 in /usr/local/lib/python3.11/site-packages (from yfinance) (6.33.0)\n",
      "Requirement already satisfied: websockets>=13.0 in /usr/local/lib/python3.11/site-packages (from yfinance) (15.0.1)\n",
      "Requirement already satisfied: soupsieve>1.2 in /usr/local/lib/python3.11/site-packages (from beautifulsoup4>=4.11.1->yfinance) (2.8)\n",
      "Requirement already satisfied: typing-extensions>=4.0.0 in /usr/local/lib/python3.11/site-packages (from beautifulsoup4>=4.11.1->yfinance) (4.15.0)\n",
      "Requirement already satisfied: cffi>=1.12.0 in /usr/local/lib/python3.11/site-packages (from curl_cffi>=0.7->yfinance) (2.0.0)\n",
      "Requirement already satisfied: certifi>=2024.2.2 in /usr/local/lib/python3.11/site-packages (from curl_cffi>=0.7->yfinance) (2025.10.5)\n",
      "Requirement already satisfied: python-dateutil>=2.8.2 in /usr/local/lib/python3.11/site-packages (from pandas>=1.3.0->yfinance) (2.9.0.post0)\n",
      "Requirement already satisfied: tzdata>=2022.7 in /usr/local/lib/python3.11/site-packages (from pandas>=1.3.0->yfinance) (2025.2)\n",
      "Requirement already satisfied: charset_normalizer<4,>=2 in /usr/local/lib/python3.11/site-packages (from requests>=2.31->yfinance) (3.4.4)\n",
      "Requirement already satisfied: idna<4,>=2.5 in /usr/local/lib/python3.11/site-packages (from requests>=2.31->yfinance) (3.11)\n",
      "Requirement already satisfied: urllib3<3,>=1.21.1 in /usr/local/lib/python3.11/site-packages (from requests>=2.31->yfinance) (2.5.0)\n",
      "Requirement already satisfied: pycparser in /usr/local/lib/python3.11/site-packages (from cffi>=1.12.0->curl_cffi>=0.7->yfinance) (2.23)\n",
      "Requirement already satisfied: six>=1.5 in /usr/local/lib/python3.11/site-packages (from python-dateutil>=2.8.2->pandas>=1.3.0->yfinance) (1.17.0)\n",
      "\n",
      "\u001b[1m[\u001b[0m\u001b[34;49mnotice\u001b[0m\u001b[1;39;49m]\u001b[0m\u001b[39;49m A new release of pip is available: \u001b[0m\u001b[31;49m24.0\u001b[0m\u001b[39;49m -> \u001b[0m\u001b[32;49m25.2\u001b[0m\n",
      "\u001b[1m[\u001b[0m\u001b[34;49mnotice\u001b[0m\u001b[1;39;49m]\u001b[0m\u001b[39;49m To update, run: \u001b[0m\u001b[32;49mpip install --upgrade pip\u001b[0m\n"
     ]
    }
   ],
   "source": [
    "!pip install google-adk>=1.12.0\n",
    "!pip install yfinance"
   ]
  },
  {
   "cell_type": "code",
   "execution_count": 2,
   "id": "b644ef8b-848a-46cb-bcc2-55432e25f66d",
   "metadata": {},
   "outputs": [],
   "source": [
    "from helper import *\n",
    "\n",
    "# Load environment variables from .env file\n",
    "load_env()"
   ]
  },
  {
   "cell_type": "code",
   "execution_count": 3,
   "id": "f2ef66c0-595e-4367-ae8e-7263e0ea6198",
   "metadata": {},
   "outputs": [
    {
     "name": "stdout",
     "output_type": "stream",
     "text": [
      "\u001b[32m\n",
      "Agent created in /home/jovyan/work/L4/app04:\n",
      "- .env\n",
      "- __init__.py\n",
      "- agent.py\n",
      "\u001b[0m\n"
     ]
    }
   ],
   "source": [
    "# First we create our expected agent folder \n",
    "# You can explore available option: !adk create --help \n",
    "\n",
    "!adk create --type=code app04 --model gemini-2.0-flash-live-001 --api_key $GEMINI_API_KEY"
   ]
  },
  {
   "cell_type": "code",
   "execution_count": 8,
   "id": "e44131f3-fd3a-4c1b-b998-096164c1a047",
   "metadata": {},
   "outputs": [
    {
     "name": "stdout",
     "output_type": "stream",
     "text": [
      "Overwriting app04/agent.py\n"
     ]
    }
   ],
   "source": [
    "%%writefile app04/agent.py\n",
    "import pathlib\n",
    "from typing import Dict, List\n",
    "import yfinance as yf\n",
    "\n",
    "from google.adk.agents import Agent\n",
    "from google.adk.tools import google_search\n",
    "\n",
    "\n",
    "def get_financial_context(tickers: List[str]) -> Dict[str, str]:\n",
    "    \"\"\"\n",
    "    Fetches the current stock price and daily change for a list of stock tickers\n",
    "    using the yfinance library.\n",
    "\n",
    "    Args:\n",
    "        tickers: A list of stock market tickers (e.g., [\"NVDA\", \"MSFT\"]).\n",
    "\n",
    "    Returns:\n",
    "        A dictionary mapping each ticker to its formatted financial data string.\n",
    "    \"\"\"\n",
    "    financial_data: Dict[str, str] = {}\n",
    "    for ticker_symbol in tickers:\n",
    "        try:\n",
    "            # Create a Ticker object\n",
    "            stock = yf.Ticker(ticker_symbol)\n",
    "            \n",
    "            # Fetch the info dictionary\n",
    "            info = stock.info\n",
    "            \n",
    "            # Safely access the required data points\n",
    "            price = info.get(\"currentPrice\") or info.get(\"regularMarketPrice\")\n",
    "            change_percent = info.get(\"regularMarketChangePercent\")\n",
    "            \n",
    "            if price is not None and change_percent is not None:\n",
    "                # Format the percentage and the final string\n",
    "                change_str = f\"{change_percent * 100:+.2f}%\"\n",
    "                financial_data[ticker_symbol] = f\"${price:.2f} ({change_str})\"\n",
    "            else:\n",
    "                # Handle cases where the ticker is valid but data is missing\n",
    "                financial_data[ticker_symbol] = \"Price data not available.\"\n",
    "\n",
    "        except Exception:\n",
    "            # This handles invalid tickers or other yfinance errors gracefully\n",
    "            financial_data[ticker_symbol] = \"Invalid Ticker or Data Error\"\n",
    "            \n",
    "    return financial_data"
   ]
  },
  {
   "cell_type": "code",
   "execution_count": 9,
   "id": "3484689a-947d-4643-83bb-4b07f5a53d44",
   "metadata": {},
   "outputs": [
    {
     "name": "stdout",
     "output_type": "stream",
     "text": [
      "Appending to app04/agent.py\n"
     ]
    }
   ],
   "source": [
    "%%writefile -a app04/agent.py\n",
    "\n",
    "def save_news_to_markdown(filename: str, content: str) -> Dict[str, str]:\n",
    "    \"\"\"\n",
    "    Saves the given content to a Markdown file in the current directory.\n",
    "\n",
    "    Args:\n",
    "        filename: The name of the file to save (e.g., 'ai_news.md').\n",
    "        content: The Markdown-formatted string to write to the file.\n",
    "\n",
    "    Returns:\n",
    "        A dictionary with the status of the operation.\n",
    "    \"\"\"\n",
    "    try:\n",
    "        if not filename.endswith(\".md\"):\n",
    "            filename += \".md\"\n",
    "        current_directory = pathlib.Path.cwd()\n",
    "        file_path = current_directory / filename\n",
    "        file_path.write_text(content, encoding=\"utf-8\")\n",
    "        return {\n",
    "            \"status\": \"success\",\n",
    "            \"message\": f\"Successfully saved news to {file_path.resolve()}\",\n",
    "        }\n",
    "    except Exception as e:\n",
    "        return {\"status\": \"error\", \"message\": f\"Failed to save file: {str(e)}\"}\n"
   ]
  },
  {
   "cell_type": "code",
   "execution_count": 10,
   "id": "a944fd44-c36e-4a21-a090-55afe2b3d9ce",
   "metadata": {},
   "outputs": [
    {
     "name": "stdout",
     "output_type": "stream",
     "text": [
      "Appending to app04/agent.py\n"
     ]
    }
   ],
   "source": [
    "%%writefile -a app04/agent.py\n",
    "\n",
    "# The root_agent is what ADK will run.\n",
    "root_agent = Agent(\n",
    "    name=\"ai_news_research_coordinator\",\n",
    "    model=\"gemini-2.0-flash-live-001\",\n",
    "    instruction=\"\"\"\n",
    "    **Your Identity:** You are a background AI Research Coordinator. Your sole purpose is to respond to requests for \n",
    "    recent AI news by performing a multi-step research task and saving the result to a file.\n",
    "\n",
    "    **Strict Topic Mandate:**\n",
    "    If a user asks about anything other than recent AI news, you MUST refuse with the exact phrase: \"Sorry, I can only help \n",
    "    with recent AI news.\"\n",
    "\n",
    "    **Required Two-Message Interaction Workflow:**\n",
    "\n",
    "    1.  **Initial Acknowledgment:** The MOMENT you receive a valid request for AI news, your first and only immediate \n",
    "    response MUST be:\n",
    "        *   \"Okay, I'll start researching the latest AI news. I will enrich the findings with financial data and compile a \n",
    "        report for you. This might take a moment.\"\n",
    "\n",
    "    2.  **Background Processing (Silent):** After sending the acknowledgment, you will silently execute the following \n",
    "    sequence of tool calls without any further communication with the user:\n",
    "        a.  **Search:** Use the `google_search` tool to find 5 recent, relevant news articles about AI, focusing on \n",
    "        US-listed companies.\n",
    "        b.  **Extract Tickers:** Internally, identify the stock ticker for each company mentioned (e.g., 'NVDA' for Nvidia).\n",
    "        c.  **Get Financial Data:** Call the `get_financial_context` tool with the list of extracted tickers.\n",
    "        d.  **Format Report:** Construct a single Markdown string for the report. You MUST format this string to \n",
    "        EXACTLY match the schema below.\n",
    "\n",
    "    **Required Report Schema:**\n",
    "    ```markdown\n",
    "    # AI Industry News Report\n",
    "\n",
    "    ## Top Headlines\n",
    "\n",
    "    ### 1. {News Headline 1}\n",
    "    *   **Company:** {Company Name} ({Ticker Symbol})\n",
    "    *   **Market Data:** {Stock Price and % Change from get_financial_context}\n",
    "    *   **Summary:** {Brief, 1-2 sentence summary of the news.}\n",
    "\n",
    "    ### 2. {News Headline 2}\n",
    "    *   **Company:** {Company Name} ({Ticker Symbol})\n",
    "    *   **Market Data:** {Stock Price and % Change from get_financial_context}\n",
    "    *   **Summary:** {Brief, 1-2 sentence summary of the news.}\n",
    "\n",
    "    (Continue for all 5 news items)\n",
    "    ```\n",
    "        e.  **Save Report:** Call the `save_news_to_markdown` tool with the filename `ai_research_report.md` and the fully \n",
    "        formatted Markdown string as the content.\n",
    "\n",
    "    3.  **Final Confirmation:** Once `save_news_to_markdown` returns a success message, your second and final response to the \n",
    "    user MUST be:\n",
    "        *   \"All done. I've compiled the research report with the latest financial context and saved it to \n",
    "        `ai_research_report.md`.\"\n",
    "\n",
    "    **Crucial Rule:** All complex work happens silently in the background between your initial acknowledgment and\n",
    "    your final confirmation. Do not engage in any other conversation.\n",
    "    \"\"\",\n",
    "    tools=[google_search, get_financial_context, save_news_to_markdown],\n",
    ")"
   ]
  },
  {
   "cell_type": "code",
   "execution_count": 11,
   "id": "20b7e725-9d7d-44c6-bb0b-3952ed9a14f1",
   "metadata": {},
   "outputs": [
    {
     "data": {
      "text/html": [
       "\n",
       "        <iframe\n",
       "            width=\"600\"\n",
       "            height=\"768\"\n",
       "            src=\"https://s172-29-98-158p8888.lab-aws-production.deeplearning.ai/terminals/4\"\n",
       "            frameborder=\"0\"\n",
       "            allowfullscreen\n",
       "            \n",
       "        ></iframe>\n",
       "        "
      ],
      "text/plain": [
       "<IPython.lib.display.IFrame at 0x7fb168a0ddd0>"
      ]
     },
     "execution_count": 11,
     "metadata": {},
     "output_type": "execute_result"
    }
   ],
   "source": [
    "# start a new terminal\n",
    "import os\n",
    "from IPython.display import IFrame\n",
    "\n",
    "IFrame(f\"{os.environ.get('DLAI_LOCAL_URL').format(port=8888)}terminals/4\", \n",
    "       width=600, height=768)\n"
   ]
  },
  {
   "cell_type": "markdown",
   "id": "92697144-d26f-4c12-a99f-247808aa0f09",
   "metadata": {},
   "source": [
    "<p style=\"background-color:#f7fff8; padding:15px; border-width:3px; border-color:#e0f0e0; border-style:solid; border-radius:6px\"> 🔄\n",
    "&nbsp; <b>Starting the ADK Server:</b> After starting a new terminal window, it may take a few seconds to get a new command line prompt. "
   ]
  },
  {
   "cell_type": "markdown",
   "id": "a61a2e64-544f-4365-9807-1bd30aa7580f",
   "metadata": {},
   "source": [
    "### Get your application URL\n",
    "After you start the Google ADK server, run the following command to get the URL where you can access your app: "
   ]
  },
  {
   "cell_type": "code",
   "execution_count": 12,
   "id": "ddb88488-d6d9-46b8-8ca2-086d4ef7f1a2",
   "metadata": {},
   "outputs": [
    {
     "name": "stdout",
     "output_type": "stream",
     "text": [
      "https://s172-29-98-158p8004.lab-aws-production.deeplearning.ai/\n"
     ]
    }
   ],
   "source": [
    "import os\n",
    "print(os.environ.get('DLAI_LOCAL_URL').format(port='8004'))"
   ]
  },
  {
   "cell_type": "code",
   "execution_count": null,
   "id": "c8e5461f-870a-4bfa-bbec-e95e9082621b",
   "metadata": {},
   "outputs": [],
   "source": [
    "from IPython.display import Markdown, display\n",
    "\n",
    "# Read and display the markdown file\n",
    "with open('ai_research_report.md', 'r', encoding='utf-8') as f:\n",
    "    content = f.read()\n",
    "    \n",
    "display(Markdown(content))"
   ]
  },
  {
   "cell_type": "markdown",
   "id": "26d1eeba-8e2a-468f-ab72-e53ae94fe666",
   "metadata": {},
   "source": [
    "# 🚨 **IMPORTANT** 🚨\n",
    "\n",
    "After finishing, make sure to run the cell below to close your connection so it does not interfere as you progress through the notebooks."
   ]
  },
  {
   "cell_type": "code",
   "execution_count": null,
   "id": "f57227ac-4023-4ff1-b6e8-c0de80c3cbe3",
   "metadata": {},
   "outputs": [],
   "source": [
    "# Terminate ADK process\n",
    "!pkill -f \"adk web\""
   ]
  }
 ],
 "metadata": {
  "kernelspec": {
   "display_name": "Python 3 (ipykernel)",
   "language": "python",
   "name": "python3"
  },
  "language_info": {
   "codemirror_mode": {
    "name": "ipython",
    "version": 3
   },
   "file_extension": ".py",
   "mimetype": "text/x-python",
   "name": "python",
   "nbconvert_exporter": "python",
   "pygments_lexer": "ipython3",
   "version": "3.11.14"
  }
 },
 "nbformat": 4,
 "nbformat_minor": 5
}
